{
 "cells": [
  {
   "cell_type": "markdown",
   "id": "d66e9e93-f1cf-4e83-89e0-77942851b6ba",
   "metadata": {},
   "source": [
    "## Problem 1\n",
    "\n",
    "In the notes, we worked an example where the potential along the x-axis is zero and the potential in the x-direction at $y=a$ is also zero, but the potential along $x=0$ from $y=0$ to $y=a$ was a constant $\\phi_0$. For this problem, change the potential along the back wall from a single constant, to two constants, so that the potential from $y=0$ to $y=a/2$ is $\\phi_0$ and the potential from $y=a/2$ to $y=a$ is $-\\phi_0$. Also plot the first several terms of this in Mathematica and do a version of this in Excel with the relaxation method and plot that as well.\n",
    "\n",
    "## Problem 2\n",
    "\n",
    "A rectangular pipe runs along the z-axis. Three of its sides are maintained at $\\phi = 0$ (so they are grounded): $y=0$, $y=a$, and $x=0$. The fourth side at $x=b$ is a constant potential $\\phi_0$. What is a general expression for the potential inside the pipe? Plot several terms of this in Mathematica and build an Excel model and plot that as well. \n",
    "\n",
    "## Problem 3\n",
    "\n",
    "A cubical box with side lengths $a$ has a 5 sides that are grounded, but the top side is maintained at constant potential $\\phi_0$. What is a general expression for the potential inside the box?\n",
    "\n",
    "## Problem 4\n",
    "\n",
    "A sphere has two separate potentials maintained on different hemispheres. On the north hemisphere, the potential is $\\phi_0$ while on the south hemisphere the potential is 0. Find an expression for the potential inside the sphere.\n",
    "\n",
    "## Other problems that might be very hard\n",
    "\n",
    "### Problem 5 \n",
    "Find the potential inside a sphere that has a potential on the surface of $V_0\\cos^4(\\theta)$.\n",
    "\n",
    "### Problem 6\n",
    "Same as above but now the potential on the surface is $V_0$ from $0<\\theta<\\pi/3$ and 0 otherwise."
   ]
  },
  {
   "cell_type": "code",
   "execution_count": null,
   "id": "87949325-a177-429a-983f-edba63ac1822",
   "metadata": {},
   "outputs": [],
   "source": []
  }
 ],
 "metadata": {
  "kernelspec": {
   "display_name": "Python 3",
   "language": "python",
   "name": "python3"
  },
  "language_info": {
   "codemirror_mode": {
    "name": "ipython",
    "version": 3
   },
   "file_extension": ".py",
   "mimetype": "text/x-python",
   "name": "python",
   "nbconvert_exporter": "python",
   "pygments_lexer": "ipython3",
   "version": "3.7.9"
  }
 },
 "nbformat": 4,
 "nbformat_minor": 5
}
