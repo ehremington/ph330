{
 "cells": [
  {
   "cell_type": "markdown",
   "id": "ed3d097d-40bf-428e-bdb1-aa3d7a479632",
   "metadata": {},
   "source": [
    "# Homework assignments\n",
    "\n",
    "## Problem set 1\n",
    "\n",
    "From the text book: Chapter 1, problems 35, 36, 40, 42, 49, 63a, 65, 77\n"
   ]
  }
 ],
 "metadata": {
  "kernelspec": {
   "display_name": "Python 3",
   "language": "python",
   "name": "python3"
  },
  "language_info": {
   "codemirror_mode": {
    "name": "ipython",
    "version": 3
   },
   "file_extension": ".py",
   "mimetype": "text/x-python",
   "name": "python",
   "nbconvert_exporter": "python",
   "pygments_lexer": "ipython3",
   "version": "3.7.9"
  }
 },
 "nbformat": 4,
 "nbformat_minor": 5
}
